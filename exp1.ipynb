{
  "nbformat": 4,
  "nbformat_minor": 0,
  "metadata": {
    "colab": {
      "provenance": [],
      "authorship_tag": "ABX9TyMke6oZccplZdLkwQxil22b",
      "include_colab_link": true
    },
    "kernelspec": {
      "name": "python3",
      "display_name": "Python 3"
    },
    "language_info": {
      "name": "python"
    }
  },
  "cells": [
    {
      "cell_type": "markdown",
      "metadata": {
        "id": "view-in-github",
        "colab_type": "text"
      },
      "source": [
        "<a href=\"https://colab.research.google.com/github/sivalankapranay/deeplearning/blob/main/exp1.ipynb\" target=\"_parent\"><img src=\"https://colab.research.google.com/assets/colab-badge.svg\" alt=\"Open In Colab\"/></a>"
      ]
    },
    {
      "cell_type": "code",
      "execution_count": 1,
      "metadata": {
        "colab": {
          "base_uri": "https://localhost:8080/"
        },
        "id": "Zn5eq1Utw8fb",
        "outputId": "f63ed4f3-3b54-4862-ccc1-e088fa7c0ee9"
      },
      "outputs": [
        {
          "output_type": "stream",
          "name": "stdout",
          "text": [
            "Loading the MNIST dataset...\n",
            "Downloading data from https://storage.googleapis.com/tensorflow/tf-keras-datasets/mnist.npz\n",
            "\u001b[1m11490434/11490434\u001b[0m \u001b[32m━━━━━━━━━━━━━━━━━━━━\u001b[0m\u001b[37m\u001b[0m \u001b[1m0s\u001b[0m 0us/step\n",
            "Training data shape: (60000, 28, 28), Training labels shape: (60000,)\n",
            "Testing data shape: (10000, 28, 28), Testing labels shape: (10000,)\n",
            "\n",
            "Reshaping the input data...\n",
            "Reshaped training data shape: (60000, 784)\n",
            "Reshaped testing data shape: (10000, 784)\n",
            "\n",
            "Normalizing the input data...\n",
            "Normalization complete. Pixel values are now between 0 and 1.\n",
            "\n",
            "One-hot encoding the target variables...\n",
            "Encoded training labels shape: (60000, 10)\n",
            "Encoded testing labels shape: (10000, 10)\n",
            "\n",
            "Defining the neural network model...\n"
          ]
        },
        {
          "output_type": "stream",
          "name": "stderr",
          "text": [
            "/usr/local/lib/python3.11/dist-packages/keras/src/layers/core/dense.py:87: UserWarning: Do not pass an `input_shape`/`input_dim` argument to a layer. When using Sequential models, prefer using an `Input(shape)` object as the first layer in the model instead.\n",
            "  super().__init__(activity_regularizer=activity_regularizer, **kwargs)\n"
          ]
        },
        {
          "output_type": "stream",
          "name": "stdout",
          "text": [
            "Model architecture defined.\n",
            "\n",
            "Compiling the model...\n",
            "Model compiled with categorical cross-entropy loss and Adam optimizer.\n",
            "\n",
            "Starting training...\n",
            "Epoch 1/10\n",
            "\u001b[1m469/469\u001b[0m \u001b[32m━━━━━━━━━━━━━━━━━━━━\u001b[0m\u001b[37m\u001b[0m \u001b[1m16s\u001b[0m 30ms/step - accuracy: 0.8668 - loss: 0.4501 - val_accuracy: 0.9668 - val_loss: 0.1078\n",
            "Epoch 2/10\n",
            "\u001b[1m469/469\u001b[0m \u001b[32m━━━━━━━━━━━━━━━━━━━━\u001b[0m\u001b[37m\u001b[0m \u001b[1m16s\u001b[0m 20ms/step - accuracy: 0.9682 - loss: 0.1023 - val_accuracy: 0.9735 - val_loss: 0.0855\n",
            "Epoch 3/10\n",
            "\u001b[1m469/469\u001b[0m \u001b[32m━━━━━━━━━━━━━━━━━━━━\u001b[0m\u001b[37m\u001b[0m \u001b[1m9s\u001b[0m 19ms/step - accuracy: 0.9788 - loss: 0.0673 - val_accuracy: 0.9775 - val_loss: 0.0676\n",
            "Epoch 4/10\n",
            "\u001b[1m469/469\u001b[0m \u001b[32m━━━━━━━━━━━━━━━━━━━━\u001b[0m\u001b[37m\u001b[0m \u001b[1m11s\u001b[0m 21ms/step - accuracy: 0.9809 - loss: 0.0568 - val_accuracy: 0.9792 - val_loss: 0.0645\n",
            "Epoch 5/10\n",
            "\u001b[1m469/469\u001b[0m \u001b[32m━━━━━━━━━━━━━━━━━━━━\u001b[0m\u001b[37m\u001b[0m \u001b[1m10s\u001b[0m 21ms/step - accuracy: 0.9853 - loss: 0.0445 - val_accuracy: 0.9790 - val_loss: 0.0677\n",
            "Epoch 6/10\n",
            "\u001b[1m469/469\u001b[0m \u001b[32m━━━━━━━━━━━━━━━━━━━━\u001b[0m\u001b[37m\u001b[0m \u001b[1m10s\u001b[0m 21ms/step - accuracy: 0.9883 - loss: 0.0377 - val_accuracy: 0.9816 - val_loss: 0.0658\n",
            "Epoch 7/10\n",
            "\u001b[1m469/469\u001b[0m \u001b[32m━━━━━━━━━━━━━━━━━━━━\u001b[0m\u001b[37m\u001b[0m \u001b[1m9s\u001b[0m 19ms/step - accuracy: 0.9887 - loss: 0.0313 - val_accuracy: 0.9804 - val_loss: 0.0662\n",
            "Epoch 8/10\n",
            "\u001b[1m469/469\u001b[0m \u001b[32m━━━━━━━━━━━━━━━━━━━━\u001b[0m\u001b[37m\u001b[0m \u001b[1m10s\u001b[0m 19ms/step - accuracy: 0.9909 - loss: 0.0287 - val_accuracy: 0.9819 - val_loss: 0.0616\n",
            "Epoch 9/10\n",
            "\u001b[1m469/469\u001b[0m \u001b[32m━━━━━━━━━━━━━━━━━━━━\u001b[0m\u001b[37m\u001b[0m \u001b[1m11s\u001b[0m 22ms/step - accuracy: 0.9914 - loss: 0.0254 - val_accuracy: 0.9822 - val_loss: 0.0739\n",
            "Epoch 10/10\n",
            "\u001b[1m469/469\u001b[0m \u001b[32m━━━━━━━━━━━━━━━━━━━━\u001b[0m\u001b[37m\u001b[0m \u001b[1m10s\u001b[0m 21ms/step - accuracy: 0.9923 - loss: 0.0238 - val_accuracy: 0.9820 - val_loss: 0.0667\n",
            "Training complete.\n",
            "\n",
            "Evaluating the model on test data...\n",
            "Test Accuracy: 98.20%\n",
            "\n",
            "Training history:\n",
            "Training accuracy: 0.99\n",
            "Validation accuracy: 0.98\n"
          ]
        }
      ],
      "source": [
        "import numpy as np\n",
        "from tensorflow.keras.datasets import mnist\n",
        "from tensorflow.keras.models import Sequential\n",
        "from tensorflow.keras.layers import Dense, Dropout\n",
        "from tensorflow.keras.utils import to_categorical\n",
        "print(\"Loading the MNIST dataset...\")\n",
        "(X_train, y_train), (X_test, y_test) = mnist.load_data()\n",
        "print(f\"Training data shape: {X_train.shape}, Training labels shape: {y_train.shape}\")\n",
        "print(f\"Testing data shape: {X_test.shape}, Testing labels shape: {y_test.shape}\")\n",
        "print(\"\\nReshaping the input data...\")\n",
        "X_train = X_train.reshape(X_train.shape[0], 28*28)\n",
        "X_test = X_test.reshape(X_test.shape[0], 28*28)\n",
        "print(f\"Reshaped training data shape: {X_train.shape}\")\n",
        "print(f\"Reshaped testing data shape: {X_test.shape}\")\n",
        "print(\"\\nNormalizing the input data...\")\n",
        "X_train = X_train / 255.0\n",
        "X_test = X_test / 255.0\n",
        "print(\"Normalization complete. Pixel values are now between 0 and 1.\")\n",
        "print(\"\\nOne-hot encoding the target variables...\")\n",
        "y_train = to_categorical(y_train)\n",
        "y_test = to_categorical(y_test)\n",
        "print(f\"Encoded training labels shape: {y_train.shape}\")\n",
        "print(f\"Encoded testing labels shape: {y_test.shape}\")\n",
        "print(\"\\nDefining the neural network model...\")\n",
        "model = Sequential()\n",
        "model.add(Dense(512, input_shape=(784,), activation='relu'))\n",
        "model.add(Dropout(0.2))\n",
        "model.add(Dense(512, activation='relu'))\n",
        "model.add(Dropout(0.2))\n",
        "model.add(Dense(10, activation='softmax'))\n",
        "print(\"Model architecture defined.\")\n",
        "print(\"\\nCompiling the model...\")\n",
        "model.compile(loss='categorical_crossentropy', optimizer='adam', metrics=['accuracy'])\n",
        "print(\"Model compiled with categorical cross-entropy loss and Adam optimizer.\")\n",
        "print(\"\\nStarting training...\")\n",
        "history = model.fit(X_train, y_train, validation_data=(X_test, y_test), epochs=10, batch_size=128,\n",
        "verbose=1)\n",
        "print(\"Training complete.\")\n",
        "print(\"\\nEvaluating the model on test data...\")\n",
        "scores = model.evaluate(X_test, y_test, verbose=0)\n",
        "print(f\"Test Accuracy: {scores[1] * 100:.2f}%\")\n",
        "print(\"\\nTraining history:\")\n",
        "print(f\"Training accuracy: {history.history['accuracy'][-1]:.2f}\")\n",
        "print(f\"Validation accuracy: {history.history['val_accuracy'][-1]:.2f}\")\n",
        ""
      ]
    }
  ]
}